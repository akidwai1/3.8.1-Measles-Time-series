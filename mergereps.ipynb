{
 "cells": [
  {
   "cell_type": "markdown",
   "id": "e4b15dab-78cd-4056-a31a-11730f8c5475",
   "metadata": {},
   "source": [
    "4. Instructor exercise B (Combining replicate data into one table):"
   ]
  },
  {
   "cell_type": "markdown",
   "id": "2fe84c78-e79e-4c1a-99ed-4d16483e55c4",
   "metadata": {},
   "source": [
    "An experiment was carried out measuring data from a library of DNA plasmid constructs. Each replicate of the experiment counted the number of times each construct was identified. Week 3 materials include the following four files:"
   ]
  },
  {
   "cell_type": "markdown",
   "id": "ab072d3a-0da3-42e5-85e9-22fb79855b64",
   "metadata": {},
   "source": [
    "Cleanlist.txt – a list of Constructs that have “good data”"
   ]
  },
  {
   "cell_type": "markdown",
   "id": "70e47a35-a4a8-49a9-988e-518c4ad17441",
   "metadata": {},
   "source": [
    "Rep1.txt, Rep2.txt, Rep3.txt – Three replicates of measurements, including some constructs not on the cleanlist."
   ]
  },
  {
   "cell_type": "markdown",
   "id": "b6eeda65-241d-4902-920a-ccb537a609ac",
   "metadata": {},
   "source": [
    "a. Write a python script that reads these files and makes a new file that has a table with columns (Constructs, TotalFacsReads_R1, TotalFacsReads_R2, TotalFacsReads_R3, AverageFacsReads) for data only from the cleanlist."
   ]
  },
  {
   "cell_type": "markdown",
   "id": "aa0b53fb-97e8-442a-8fc9-6c06542cabf3",
   "metadata": {},
   "source": [
    "b. Uploads should include the python script (mergereps.py) and the output file (mergedreps.csv)."
   ]
  },
  {
   "cell_type": "code",
   "execution_count": 49,
   "id": "c530d698-20c4-4cdb-b9d6-2f9d0284a66d",
   "metadata": {},
   "outputs": [],
   "source": [
    "import pandas as pd\n",
    "import os\n",
    "\n",
    "# Location of the files\n",
    "folder_path = \"Desktop/Final-question\"\n",
    "cleanlist_path = os.path.join(folder_path, \"Cleanlist.txt\")\n",
    "rep1_path = os.path.join(folder_path, \"Rep1.txt\")\n",
    "rep2_path = os.path.join(folder_path, \"Rep2.txt\")\n",
    "rep3_path = os.path.join(folder_path, \"Rep3.txt\")\n",
    "\n",
    "# Read the cleanlist file\n",
    "cleanlist_df = pd.read_csv(cleanlist_path, delimiter='\\t')\n",
    "cleanlist_constructs = cleanlist_df['Construct']  # Update column name if needed\n",
    "\n",
    "# Read replicate files\n",
    "rep1_df = pd.read_csv(rep1_path, delimiter='\\t')\n",
    "rep2_df = pd.read_csv(rep2_path, delimiter='\\t')\n",
    "rep3_df = pd.read_csv(rep3_path, delimiter='\\t')\n",
    "\n",
    "# Filter data from the cleanlist in replicate files\n",
    "rep1_clean = rep1_df[rep1_df['Construct'].isin(cleanlist_constructs)]\n",
    "rep2_clean = rep2_df[rep2_df['Construct'].isin(cleanlist_constructs)]\n",
    "rep3_clean = rep3_df[rep3_df['Construct'].isin(cleanlist_constructs)]\n",
    "\n",
    "# Calculate TotalFacsReads for each replicate\n",
    "rep1_totals = rep1_clean.groupby('Construct')['TotalFacsReads'].sum()\n",
    "rep2_totals = rep2_clean.groupby('Construct')['TotalFacsReads'].sum()\n",
    "rep3_totals = rep3_clean.groupby('Construct')['TotalFacsReads'].sum()\n",
    "\n",
    "# Calculate AverageFacsReads\n",
    "average_totals = (rep1_totals + rep2_totals + rep3_totals) / 3\n",
    "\n",
    "# Create DataFrame with the required columns\n",
    "result_df = pd.DataFrame({\n",
    "    'Constructs': cleanlist_constructs,\n",
    "    'TotalFacsReads_R1': rep1_totals.values,\n",
    "    'TotalFacsReads_R2': rep2_totals.values,\n",
    "    'TotalFacsReads_R3': rep3_totals.values,\n",
    "    'AverageFacsReads': average_totals.values\n",
    "})\n",
    "\n",
    "# Write the combined data to a new file\n",
    "result_file_path = os.path.join(folder_path, \"mergedreps.csv\")\n",
    "result_df.to_csv(result_file_path, sep='\\t', index=False)\n"
   ]
  }
 ],
 "metadata": {
  "kernelspec": {
   "display_name": "Python 3 (ipykernel)",
   "language": "python",
   "name": "python3"
  },
  "language_info": {
   "codemirror_mode": {
    "name": "ipython",
    "version": 3
   },
   "file_extension": ".py",
   "mimetype": "text/x-python",
   "name": "python",
   "nbconvert_exporter": "python",
   "pygments_lexer": "ipython3",
   "version": "3.11.5"
  }
 },
 "nbformat": 4,
 "nbformat_minor": 5
}
